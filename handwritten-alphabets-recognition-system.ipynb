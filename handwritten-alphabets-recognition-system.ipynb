{
 "cells": [
  {
   "cell_type": "markdown",
   "id": "0e3d499c",
   "metadata": {
    "papermill": {
     "duration": 0.007906,
     "end_time": "2024-07-10T08:44:52.766274",
     "exception": false,
     "start_time": "2024-07-10T08:44:52.758368",
     "status": "completed"
    },
    "tags": []
   },
   "source": [
    "Author: Abdullah Yasser Borai Ahmed Ismail\n",
    "Model Used: CNN\n",
    "The purpose of this system is to predict the letter drawn based on previous data\n",
    "Used File: https://data-flair.s3.ap-south-1.amazonaws.com/Data-Science-Code/handwritten-character-recognition-code.zip"
   ]
  },
  {
   "cell_type": "code",
   "execution_count": 1,
   "id": "845d5221",
   "metadata": {
    "_cell_guid": "b1076dfc-b9ad-4769-8c92-a6c4dae69d19",
    "_uuid": "8f2839f25d086af736a60e9eeb907d3b93b6e0e5",
    "execution": {
     "iopub.execute_input": "2024-07-10T08:44:52.783076Z",
     "iopub.status.busy": "2024-07-10T08:44:52.782647Z",
     "iopub.status.idle": "2024-07-10T08:45:09.964466Z",
     "shell.execute_reply": "2024-07-10T08:45:09.963389Z"
    },
    "papermill": {
     "duration": 17.193353,
     "end_time": "2024-07-10T08:45:09.967239",
     "exception": false,
     "start_time": "2024-07-10T08:44:52.773886",
     "status": "completed"
    },
    "tags": []
   },
   "outputs": [
    {
     "name": "stderr",
     "output_type": "stream",
     "text": [
      "2024-07-10 08:44:57.892900: E external/local_xla/xla/stream_executor/cuda/cuda_dnn.cc:9261] Unable to register cuDNN factory: Attempting to register factory for plugin cuDNN when one has already been registered\n",
      "2024-07-10 08:44:57.893080: E external/local_xla/xla/stream_executor/cuda/cuda_fft.cc:607] Unable to register cuFFT factory: Attempting to register factory for plugin cuFFT when one has already been registered\n",
      "2024-07-10 08:44:58.068525: E external/local_xla/xla/stream_executor/cuda/cuda_blas.cc:1515] Unable to register cuBLAS factory: Attempting to register factory for plugin cuBLAS when one has already been registered\n"
     ]
    }
   ],
   "source": [
    "# importing the necessary libraries\n",
    "import numpy as np\n",
    "import pandas as pd\n",
    "import cv2\n",
    "import matplotlib.pyplot as plt\n",
    "%matplotlib inline\n",
    "\n",
    "# importing the libraries used to split and shuffle data\n",
    "from sklearn.model_selection import train_test_split\n",
    "from sklearn.utils import shuffle\n",
    "\n",
    "# importing the keras api from TensorFlow framework\n",
    "from tensorflow import keras\n",
    "\n",
    "# importing the libraries used to handle and train data\n",
    "from keras.utils import to_categorical\n",
    "from keras.models import Sequential\n",
    "from keras.layers import Conv2D, MaxPool2D, Flatten, Dense, Dropout\n",
    "from keras.optimizers import Adam, SGD\n",
    "from keras.callbacks import ReduceLROnPlateau, EarlyStopping"
   ]
  },
  {
   "cell_type": "markdown",
   "id": "ba6b63d6",
   "metadata": {
    "papermill": {
     "duration": 0.007196,
     "end_time": "2024-07-10T08:45:09.982248",
     "exception": false,
     "start_time": "2024-07-10T08:45:09.975052",
     "status": "completed"
    },
    "tags": []
   },
   "source": [
    "**Loading the data file (CSV)**"
   ]
  },
  {
   "cell_type": "code",
   "execution_count": 2,
   "id": "4103779f",
   "metadata": {
    "execution": {
     "iopub.execute_input": "2024-07-10T08:45:09.999314Z",
     "iopub.status.busy": "2024-07-10T08:45:09.998606Z",
     "iopub.status.idle": "2024-07-10T08:45:48.934899Z",
     "shell.execute_reply": "2024-07-10T08:45:48.933732Z"
    },
    "papermill": {
     "duration": 38.948176,
     "end_time": "2024-07-10T08:45:48.937992",
     "exception": false,
     "start_time": "2024-07-10T08:45:09.989816",
     "status": "completed"
    },
    "tags": []
   },
   "outputs": [],
   "source": [
    "# creating a path for the data we have\n",
    "file_path = \"/kaggle/input/handwritten-data/A_Z Handwritten Data.csv\"\n",
    "# loading the data into \"data\"\n",
    "data = pd.read_csv(file_path).astype('float32')"
   ]
  },
  {
   "cell_type": "markdown",
   "id": "d4390a0a",
   "metadata": {
    "papermill": {
     "duration": 0.007297,
     "end_time": "2024-07-10T08:45:48.953641",
     "exception": false,
     "start_time": "2024-07-10T08:45:48.946344",
     "status": "completed"
    },
    "tags": []
   },
   "source": [
    "**Splitting the data**"
   ]
  },
  {
   "cell_type": "code",
   "execution_count": 3,
   "id": "99ba4179",
   "metadata": {
    "execution": {
     "iopub.execute_input": "2024-07-10T08:45:48.970722Z",
     "iopub.status.busy": "2024-07-10T08:45:48.970280Z",
     "iopub.status.idle": "2024-07-10T08:45:49.333893Z",
     "shell.execute_reply": "2024-07-10T08:45:49.332751Z"
    },
    "papermill": {
     "duration": 0.375526,
     "end_time": "2024-07-10T08:45:49.336777",
     "exception": false,
     "start_time": "2024-07-10T08:45:48.961251",
     "status": "completed"
    },
    "tags": []
   },
   "outputs": [],
   "source": [
    "# sppliting the data into x values and y values\n",
    "# y is the column with the name '0'\n",
    "y = data['0']\n",
    "# and X is everything except that\n",
    "X = data.drop('0', axis = 1)"
   ]
  },
  {
   "cell_type": "markdown",
   "id": "51ecc735",
   "metadata": {
    "papermill": {
     "duration": 0.007303,
     "end_time": "2024-07-10T08:45:49.352308",
     "exception": false,
     "start_time": "2024-07-10T08:45:49.345005",
     "status": "completed"
    },
    "tags": []
   },
   "source": [
    "**Splitting the data into training and testing data**"
   ]
  },
  {
   "cell_type": "code",
   "execution_count": 4,
   "id": "2fe20451",
   "metadata": {
    "execution": {
     "iopub.execute_input": "2024-07-10T08:45:49.370234Z",
     "iopub.status.busy": "2024-07-10T08:45:49.369267Z",
     "iopub.status.idle": "2024-07-10T08:45:50.885614Z",
     "shell.execute_reply": "2024-07-10T08:45:50.884431Z"
    },
    "papermill": {
     "duration": 1.528098,
     "end_time": "2024-07-10T08:45:50.888348",
     "exception": false,
     "start_time": "2024-07-10T08:45:49.360250",
     "status": "completed"
    },
    "tags": []
   },
   "outputs": [
    {
     "name": "stdout",
     "output_type": "stream",
     "text": [
      "(297960, 28, 28)\n",
      "(74490, 28, 28)\n"
     ]
    }
   ],
   "source": [
    "# splitting the data into training and testing data\n",
    "np.random.seed(44)\n",
    "train_x, test_x, train_y, test_y = train_test_split(X, y, test_size = 0.2)\n",
    "\n",
    "# reshaping the data so that they can be displayed as images instead of numerical values\n",
    "train_x = np.reshape(train_x.values, (train_x.shape[0], 28, 28))\n",
    "test_x = np.reshape(test_x.values, (test_x.shape[0], 28, 28))\n",
    "\n",
    "# printing the shape of the data\n",
    "print(train_x.shape)\n",
    "print(test_x.shape)\n",
    "\n",
    "# the data was converted from numerical to 28 * 28 pixel images"
   ]
  },
  {
   "cell_type": "markdown",
   "id": "6a9d87ae",
   "metadata": {
    "papermill": {
     "duration": 0.00846,
     "end_time": "2024-07-10T08:45:50.904492",
     "exception": false,
     "start_time": "2024-07-10T08:45:50.896032",
     "status": "completed"
    },
    "tags": []
   },
   "source": [
    "**Creating a dictionary for the letters**"
   ]
  },
  {
   "cell_type": "code",
   "execution_count": 5,
   "id": "4eb7e792",
   "metadata": {
    "execution": {
     "iopub.execute_input": "2024-07-10T08:45:50.921466Z",
     "iopub.status.busy": "2024-07-10T08:45:50.921059Z",
     "iopub.status.idle": "2024-07-10T08:45:50.927580Z",
     "shell.execute_reply": "2024-07-10T08:45:50.926363Z"
    },
    "papermill": {
     "duration": 0.018396,
     "end_time": "2024-07-10T08:45:50.930519",
     "exception": false,
     "start_time": "2024-07-10T08:45:50.912123",
     "status": "completed"
    },
    "tags": []
   },
   "outputs": [
    {
     "name": "stdout",
     "output_type": "stream",
     "text": [
      "{0: 'A', 1: 'B', 2: 'C', 3: 'D', 4: 'E', 5: 'F', 6: 'G', 7: 'H', 8: 'I', 9: 'J', 10: 'K', 11: 'L', 12: 'M', 13: 'N', 14: 'O', 15: 'P', 16: 'Q', 17: 'R', 18: 'S', 19: 'T', 20: 'U', 21: 'V', 22: 'W', 23: 'X', 24: 'Y', 25: 'Z'}\n"
     ]
    }
   ],
   "source": [
    "# mapping the integer values with characters because as shown in the csv file all 'o' column is of type float\n",
    "# the alphabets (sorted)\n",
    "alphabets = \"ABCDEFGHIJKLMNOPQRSTUVWXYZ\"\n",
    "# a dictionary to hold the characters as values based on the value in 'o' 0 --> 25\n",
    "alphabets_dictionary = {}\n",
    "\n",
    "# filling in the dictionary\n",
    "for i in range(26):\n",
    "    alphabets_dictionary[i] = alphabets[i]\n",
    "\n",
    "# printing the dictionary\n",
    "print(alphabets_dictionary)"
   ]
  },
  {
   "cell_type": "markdown",
   "id": "d1080de9",
   "metadata": {
    "papermill": {
     "duration": 0.007384,
     "end_time": "2024-07-10T08:45:50.945752",
     "exception": false,
     "start_time": "2024-07-10T08:45:50.938368",
     "status": "completed"
    },
    "tags": []
   },
   "source": [
    "**Visualizing the stats from data**"
   ]
  },
  {
   "cell_type": "code",
   "execution_count": 6,
   "id": "3ea007da",
   "metadata": {
    "execution": {
     "iopub.execute_input": "2024-07-10T08:45:50.962849Z",
     "iopub.status.busy": "2024-07-10T08:45:50.962418Z",
     "iopub.status.idle": "2024-07-10T08:45:51.727762Z",
     "shell.execute_reply": "2024-07-10T08:45:51.726498Z"
    },
    "papermill": {
     "duration": 0.776807,
     "end_time": "2024-07-10T08:45:51.730194",
     "exception": false,
     "start_time": "2024-07-10T08:45:50.953387",
     "status": "completed"
    },
    "tags": []
   },
   "outputs": [
    {
     "data": {
      "image/png": "[encoded data removed]",
      "text/plain": [
       "<Figure size 1200x1000 with 1 Axes>"
      ]
     },
     "metadata": {},
     "output_type": "display_data"
    }
   ],
   "source": [
    "# converting the y values 'o' from float into int\n",
    "y_values = np.intp(y)\n",
    "\n",
    "# calculating the occurences of each letter based on its 'o' value\n",
    "occurences = np.zeros(26, dtype='int')\n",
    "for i in y_values:\n",
    "    occurences[i] += 1\n",
    "\n",
    "# an array to hold the int values of each letter\n",
    "letters_int_values = [i for i in alphabets_dictionary.values()]\n",
    "\n",
    "# plotting the results\n",
    "ig, ax = plt.subplots(1,1, figsize=(12,10))\n",
    "ax.barh(letters_int_values, occurences)\n",
    "plt.xlabel(\"Occurances\")\n",
    "plt.ylabel(\"Letter\")\n",
    "plt.grid()\n",
    "plt.show()"
   ]
  },
  {
   "cell_type": "markdown",
   "id": "734d3c52",
   "metadata": {
    "papermill": {
     "duration": 0.008372,
     "end_time": "2024-07-10T08:45:51.747246",
     "exception": false,
     "start_time": "2024-07-10T08:45:51.738874",
     "status": "completed"
    },
    "tags": []
   },
   "source": [
    "**Shuffling the data**"
   ]
  },
  {
   "cell_type": "code",
   "execution_count": 7,
   "id": "7c3140ba",
   "metadata": {
    "execution": {
     "iopub.execute_input": "2024-07-10T08:45:51.765769Z",
     "iopub.status.busy": "2024-07-10T08:45:51.765308Z",
     "iopub.status.idle": "2024-07-10T08:45:51.772155Z",
     "shell.execute_reply": "2024-07-10T08:45:51.770914Z"
    },
    "papermill": {
     "duration": 0.019241,
     "end_time": "2024-07-10T08:45:51.774760",
     "exception": false,
     "start_time": "2024-07-10T08:45:51.755519",
     "status": "completed"
    },
    "tags": []
   },
   "outputs": [],
   "source": [
    "# shuffling a part of the data we have\n",
    "np.random.seed(44)                 # putting a seed to get the same result each time\n",
    "shuff = shuffle(train_x[:100])"
   ]
  },
  {
   "cell_type": "markdown",
   "id": "c7fa2e90",
   "metadata": {
    "papermill": {
     "duration": 0.00869,
     "end_time": "2024-07-10T08:45:51.791811",
     "exception": false,
     "start_time": "2024-07-10T08:45:51.783121",
     "status": "completed"
    },
    "tags": []
   },
   "source": [
    "**Reshaping the data to fit into the model**"
   ]
  },
  {
   "cell_type": "code",
   "execution_count": 8,
   "id": "f5788a18",
   "metadata": {
    "execution": {
     "iopub.execute_input": "2024-07-10T08:45:51.810293Z",
     "iopub.status.busy": "2024-07-10T08:45:51.809874Z",
     "iopub.status.idle": "2024-07-10T08:45:51.838588Z",
     "shell.execute_reply": "2024-07-10T08:45:51.837403Z"
    },
    "papermill": {
     "duration": 0.041333,
     "end_time": "2024-07-10T08:45:51.841429",
     "exception": false,
     "start_time": "2024-07-10T08:45:51.800096",
     "status": "completed"
    },
    "tags": []
   },
   "outputs": [],
   "source": [
    "# creating training data and testing data by reshaping the old data\n",
    "train_X = train_x.reshape(train_x.shape[0], train_x.shape[1], train_x.shape[2], 1)\n",
    "test_X = test_x.reshape(test_x.shape[0], test_x.shape[1], test_x.shape[2],1)\n",
    "\n",
    "# the reason for that reshaping is that the old shape can't be put into the model\n",
    "# so a reshape was required\n",
    "model_train_y = to_categorical(train_y, num_classes = 26)\n",
    "model_test_y = to_categorical(test_y, num_classes = 26)"
   ]
  },
  {
   "cell_type": "markdown",
   "id": "b93956b5",
   "metadata": {
    "papermill": {
     "duration": 0.008063,
     "end_time": "2024-07-10T08:45:51.857935",
     "exception": false,
     "start_time": "2024-07-10T08:45:51.849872",
     "status": "completed"
    },
    "tags": []
   },
   "source": [
    "**Designing the model**"
   ]
  },
  {
   "cell_type": "code",
   "execution_count": 9,
   "id": "03a04f4d",
   "metadata": {
    "execution": {
     "iopub.execute_input": "2024-07-10T08:45:51.876749Z",
     "iopub.status.busy": "2024-07-10T08:45:51.876268Z",
     "iopub.status.idle": "2024-07-10T08:45:51.903723Z",
     "shell.execute_reply": "2024-07-10T08:45:51.902524Z"
    },
    "papermill": {
     "duration": 0.039907,
     "end_time": "2024-07-10T08:45:51.906260",
     "exception": false,
     "start_time": "2024-07-10T08:45:51.866353",
     "status": "completed"
    },
    "tags": []
   },
   "outputs": [],
   "source": [
    "# creating the CNN model that will be used to train the data\n",
    "model = Sequential()\n",
    "\n",
    "# setting the convolution layers which are the at the beginning\n",
    "model.add(Conv2D(filters=32, kernel_size=(3, 3), activation='relu'))\n",
    "# setting the maxpool layers which are the next\n",
    "model.add(MaxPool2D(pool_size=(2, 2), strides=2))\n",
    "\n",
    "# repeating the process again\n",
    "model.add(Conv2D(filters=64, kernel_size=(3, 3), activation='relu', padding='same'))\n",
    "model.add(MaxPool2D(pool_size=(2, 2), strides=2))\n",
    "\n",
    "# repeating the process again\n",
    "model.add(Conv2D(filters=128, kernel_size=(3, 3), activation='relu', padding='valid'))\n",
    "model.add(MaxPool2D(pool_size=(2, 2), strides=2))\n",
    "\n",
    "# flattenning the layers of previous layers before activating it to Dense Layer\n",
    "model.add(Flatten())\n",
    "\n",
    "# activating the Dense Layer\n",
    "model.add(Dense(64, activation=\"relu\"))\n",
    "model.add(Dense(128, activation=\"relu\"))\n",
    "model.add(Dense(26, activation=\"softmax\"))\n"
   ]
  },
  {
   "cell_type": "markdown",
   "id": "930de357",
   "metadata": {
    "papermill": {
     "duration": 0.008175,
     "end_time": "2024-07-10T08:45:51.922978",
     "exception": false,
     "start_time": "2024-07-10T08:45:51.914803",
     "status": "completed"
    },
    "tags": []
   },
   "source": [
    "**Fitting the data**"
   ]
  },
  {
   "cell_type": "code",
   "execution_count": 10,
   "id": "065cf22a",
   "metadata": {
    "execution": {
     "iopub.execute_input": "2024-07-10T08:45:51.941752Z",
     "iopub.status.busy": "2024-07-10T08:45:51.940864Z",
     "iopub.status.idle": "2024-07-10T08:49:26.542938Z",
     "shell.execute_reply": "2024-07-10T08:49:26.541734Z"
    },
    "papermill": {
     "duration": 214.895332,
     "end_time": "2024-07-10T08:49:26.826463",
     "exception": false,
     "start_time": "2024-07-10T08:45:51.931131",
     "status": "completed"
    },
    "tags": []
   },
   "outputs": [
    {
     "name": "stdout",
     "output_type": "stream",
     "text": [
      "\u001b[1m9312/9312\u001b[0m \u001b[32m━━━━━━━━━━━━━━━━━━━━\u001b[0m\u001b[37m\u001b[0m \u001b[1m213s\u001b[0m 23ms/step - accuracy: 0.9094 - loss: 0.3527 - val_accuracy: 0.9752 - val_loss: 0.0870\n"
     ]
    }
   ],
   "source": [
    "# compiling the CNN model\n",
    "model.compile(optimizer = Adam(learning_rate = 0.001), loss = 'categorical_crossentropy', metrics = ['accuracy'])\n",
    "# Adam optimizating method was used with a learning rate = 0.001\n",
    "\n",
    "# fitting the data by the model\n",
    "fitting = model.fit(train_X, model_train_y, epochs = 1, validation_data = (test_X, model_test_y))"
   ]
  },
  {
   "cell_type": "markdown",
   "id": "9fb6ccae",
   "metadata": {
    "papermill": {
     "duration": 0.309719,
     "end_time": "2024-07-10T08:49:27.453476",
     "exception": false,
     "start_time": "2024-07-10T08:49:27.143757",
     "status": "completed"
    },
    "tags": []
   },
   "source": [
    "**Predicting some values to check the functionality of the model**"
   ]
  },
  {
   "cell_type": "code",
   "execution_count": 11,
   "id": "f1af6ad5",
   "metadata": {
    "execution": {
     "iopub.execute_input": "2024-07-10T08:49:28.084819Z",
     "iopub.status.busy": "2024-07-10T08:49:28.084396Z",
     "iopub.status.idle": "2024-07-10T08:49:30.160726Z",
     "shell.execute_reply": "2024-07-10T08:49:30.159445Z"
    },
    "papermill": {
     "duration": 2.392504,
     "end_time": "2024-07-10T08:49:30.163244",
     "exception": false,
     "start_time": "2024-07-10T08:49:27.770740",
     "status": "completed"
    },
    "tags": []
   },
   "outputs": [
    {
     "name": "stdout",
     "output_type": "stream",
     "text": [
      "\u001b[1m1/1\u001b[0m \u001b[32m━━━━━━━━━━━━━━━━━━━━\u001b[0m\u001b[37m\u001b[0m \u001b[1m0s\u001b[0m 103ms/step\n"
     ]
    },
    {
     "data": {
      "image/png": "[encoded data removed]",
      "text/plain": [
       "<Figure size 800x900 with 9 Axes>"
      ]
     },
     "metadata": {},
     "output_type": "display_data"
    }
   ],
   "source": [
    "# using the model to predict some of the test data \n",
    "predictions = model.predict(test_X[0:9])\n",
    "\n",
    "# using np.argmax to get the index of the letter with highest possibility\n",
    "predicted_labels = np.argmax(predictions, axis = 1)\n",
    "\n",
    "fig, axes = plt.subplots(3,3, figsize=(8,9))\n",
    "axes = axes.flatten()\n",
    "for i,ax in enumerate(axes):\n",
    "    # reshaping the x values of the test data so that they can be plotted as images\n",
    "    img = np.reshape(test_X[i], (28,28))\n",
    "    # plotting the image\n",
    "    ax.imshow(img, cmap=\"Greys\")\n",
    "    \n",
    "    # using the indices we have as keys, we can find the predicted letter\n",
    "    predicted_letter = alphabets_dictionary[predicted_labels[i]]\n",
    "    ax.set_title(\"Prediction: \" + predicted_letter)\n",
    "    ax.grid()"
   ]
  },
  {
   "cell_type": "markdown",
   "id": "e9c45acc",
   "metadata": {
    "papermill": {
     "duration": 0.314531,
     "end_time": "2024-07-10T08:49:30.862507",
     "exception": false,
     "start_time": "2024-07-10T08:49:30.547976",
     "status": "completed"
    },
    "tags": []
   },
   "source": [
    "**Evaluating the model**"
   ]
  },
  {
   "cell_type": "code",
   "execution_count": 12,
   "id": "54efb45d",
   "metadata": {
    "execution": {
     "iopub.execute_input": "2024-07-10T08:49:31.491845Z",
     "iopub.status.busy": "2024-07-10T08:49:31.491409Z",
     "iopub.status.idle": "2024-07-10T08:49:50.485348Z",
     "shell.execute_reply": "2024-07-10T08:49:50.484177Z"
    },
    "papermill": {
     "duration": 19.31241,
     "end_time": "2024-07-10T08:49:50.488255",
     "exception": false,
     "start_time": "2024-07-10T08:49:31.175845",
     "status": "completed"
    },
    "tags": []
   },
   "outputs": [
    {
     "name": "stdout",
     "output_type": "stream",
     "text": [
      "\u001b[1m2328/2328\u001b[0m \u001b[32m━━━━━━━━━━━━━━━━━━━━\u001b[0m\u001b[37m\u001b[0m \u001b[1m17s\u001b[0m 7ms/step\n",
      "              precision    recall  f1-score   support\n",
      "\n",
      "           0       0.96      0.98      0.97      2745\n",
      "           1       1.00      0.84      0.91      1719\n",
      "           2       0.98      0.98      0.98      4606\n",
      "           3       0.96      0.92      0.94      2056\n",
      "           4       0.94      0.99      0.97      2244\n",
      "           5       0.97      0.98      0.97       250\n",
      "           6       0.87      0.97      0.91      1164\n",
      "           7       0.96      0.96      0.96      1489\n",
      "           8       0.97      0.93      0.95       256\n",
      "           9       0.98      0.93      0.96      1704\n",
      "          10       0.92      0.97      0.95      1140\n",
      "          11       0.97      0.98      0.98      2304\n",
      "          12       0.99      0.96      0.98      2470\n",
      "          13       0.97      0.99      0.98      3835\n",
      "          14       0.98      0.99      0.98     11572\n",
      "          15       0.99      0.98      0.99      3812\n",
      "          16       0.99      0.90      0.94      1155\n",
      "          17       0.98      0.96      0.97      2349\n",
      "          18       0.99      1.00      0.99      9659\n",
      "          19       0.99      0.99      0.99      4519\n",
      "          20       0.98      0.99      0.98      5839\n",
      "          21       0.96      0.98      0.97       784\n",
      "          22       0.99      0.95      0.97      2067\n",
      "          23       0.99      0.94      0.96      1284\n",
      "          24       0.96      0.98      0.97      2229\n",
      "          25       0.99      0.96      0.97      1239\n",
      "\n",
      "    accuracy                           0.98     74490\n",
      "   macro avg       0.97      0.96      0.97     74490\n",
      "weighted avg       0.98      0.98      0.98     74490\n",
      "\n"
     ]
    }
   ],
   "source": [
    "# importing a library to assess the model performance\n",
    "from sklearn.metrics import classification_report\n",
    "\n",
    "# Evaluating the performance of the model\n",
    "# creating a function to return an array with the number of the letter\n",
    "# e.g. c --> 2, z --> 25\n",
    "def expected_letters(y_test):\n",
    "    # an array to hold the numbers of each letter\n",
    "    y_true = []\n",
    "    # looping through each subarray in y_test array\n",
    "    for x in y_test:\n",
    "        # the index of the element with the value 1 is target number\n",
    "        letter_index = np.where(x == 1)[0][0]\n",
    "        # adding this number to the array\n",
    "        y_true.append(letter_index)\n",
    "    # return the array of numbers\n",
    "    return y_true\n",
    "\n",
    "# a list to hold the true values\n",
    "y_true = expected_letters(model_test_y)\n",
    "# a list to hold the expected values\n",
    "y_predicted = np.argmax(model.predict(test_X), axis = 1)\n",
    "\n",
    "# printing a classification report\n",
    "print(classification_report(y_true, y_predicted))"
   ]
  }
 ],
 "metadata": {
  "kaggle": {
   "accelerator": "none",
   "dataSources": [
    {
     "datasetId": 9726,
     "sourceId": 17999,
     "sourceType": "datasetVersion"
    },
    {
     "datasetId": 4870293,
     "sourceId": 8216681,
     "sourceType": "datasetVersion"
    }
   ],
   "dockerImageVersionId": 30698,
   "isGpuEnabled": false,
   "isInternetEnabled": false,
   "language": "python",
   "sourceType": "notebook"
  },
  "kernelspec": {
   "display_name": "Python 3",
   "language": "python",
   "name": "python3"
  },
  "language_info": {
   "codemirror_mode": {
    "name": "ipython",
    "version": 3
   },
   "file_extension": ".py",
   "mimetype": "text/x-python",
   "name": "python",
   "nbconvert_exporter": "python",
   "pygments_lexer": "ipython3",
   "version": "3.10.13"
  },
  "papermill": {
   "default_parameters": {},
   "duration": 303.217056,
   "end_time": "2024-07-10T08:49:52.768063",
   "environment_variables": {},
   "exception": null,
   "input_path": "__notebook__.ipynb",
   "output_path": "__notebook__.ipynb",
   "parameters": {},
   "start_time": "2024-07-10T08:44:49.551007",
   "version": "2.5.0"
  }
 },
 "nbformat": 4,
 "nbformat_minor": 5
}
